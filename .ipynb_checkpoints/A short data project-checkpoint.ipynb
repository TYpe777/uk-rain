{
 "cells": [
  {
   "cell_type": "markdown",
   "metadata": {},
   "source": [
    "<h1>A short data project - UK rainfall</h1>"
   ]
  },
  {
   "cell_type": "code",
   "execution_count": 9,
   "metadata": {
    "collapsed": false
   },
   "outputs": [],
   "source": [
    "%matplotlib inline #prevent matplot from using popup visualisations\n",
    "import pandas as pd\n",
    "import matplotlib.pyplot as plt"
   ]
  },
  {
   "cell_type": "code",
   "execution_count": 10,
   "metadata": {
    "collapsed": true
   },
   "outputs": [],
   "source": [
    "rain_df = pd.read_csv('data/uk_rain_2014.csv')"
   ]
  },
  {
   "cell_type": "code",
   "execution_count": 16,
   "metadata": {
    "collapsed": false
   },
   "outputs": [
    {
     "data": {
      "text/html": [
       "<div>\n",
       "<table border=\"1\" class=\"dataframe\">\n",
       "  <thead>\n",
       "    <tr style=\"text-align: right;\">\n",
       "      <th></th>\n",
       "      <th>Water Year</th>\n",
       "      <th>Rain (mm) Oct-Sep</th>\n",
       "      <th>Outflow (m3/s) Oct-Sep</th>\n",
       "      <th>Rain (mm) Dec-Feb</th>\n",
       "      <th>Outflow (m3/s) Dec-Feb</th>\n",
       "      <th>Rain (mm) Jun-Aug</th>\n",
       "      <th>Outflow (m3/s) Jun-Aug</th>\n",
       "    </tr>\n",
       "  </thead>\n",
       "  <tbody>\n",
       "    <tr>\n",
       "      <th>0</th>\n",
       "      <td>1980/81</td>\n",
       "      <td>1182</td>\n",
       "      <td>5408</td>\n",
       "      <td>292</td>\n",
       "      <td>7248</td>\n",
       "      <td>174</td>\n",
       "      <td>2212</td>\n",
       "    </tr>\n",
       "    <tr>\n",
       "      <th>1</th>\n",
       "      <td>1981/82</td>\n",
       "      <td>1098</td>\n",
       "      <td>5112</td>\n",
       "      <td>257</td>\n",
       "      <td>7316</td>\n",
       "      <td>242</td>\n",
       "      <td>1936</td>\n",
       "    </tr>\n",
       "    <tr>\n",
       "      <th>2</th>\n",
       "      <td>1982/83</td>\n",
       "      <td>1156</td>\n",
       "      <td>5701</td>\n",
       "      <td>330</td>\n",
       "      <td>8567</td>\n",
       "      <td>124</td>\n",
       "      <td>1802</td>\n",
       "    </tr>\n",
       "    <tr>\n",
       "      <th>3</th>\n",
       "      <td>1983/84</td>\n",
       "      <td>993</td>\n",
       "      <td>4265</td>\n",
       "      <td>391</td>\n",
       "      <td>8905</td>\n",
       "      <td>141</td>\n",
       "      <td>1078</td>\n",
       "    </tr>\n",
       "    <tr>\n",
       "      <th>4</th>\n",
       "      <td>1984/85</td>\n",
       "      <td>1182</td>\n",
       "      <td>5364</td>\n",
       "      <td>217</td>\n",
       "      <td>5813</td>\n",
       "      <td>343</td>\n",
       "      <td>4313</td>\n",
       "    </tr>\n",
       "  </tbody>\n",
       "</table>\n",
       "</div>"
      ],
      "text/plain": [
       "  Water Year  Rain (mm) Oct-Sep  Outflow (m3/s) Oct-Sep  Rain (mm) Dec-Feb  \\\n",
       "0    1980/81               1182                    5408                292   \n",
       "1    1981/82               1098                    5112                257   \n",
       "2    1982/83               1156                    5701                330   \n",
       "3    1983/84                993                    4265                391   \n",
       "4    1984/85               1182                    5364                217   \n",
       "\n",
       "   Outflow (m3/s) Dec-Feb  Rain (mm) Jun-Aug  Outflow (m3/s) Jun-Aug  \n",
       "0                    7248                174                    2212  \n",
       "1                    7316                242                    1936  \n",
       "2                    8567                124                    1802  \n",
       "3                    8905                141                    1078  \n",
       "4                    5813                343                    4313  "
      ]
     },
     "execution_count": 16,
     "metadata": {},
     "output_type": "execute_result"
    }
   ],
   "source": [
    "rain_df.head()"
   ]
  },
  {
   "cell_type": "markdown",
   "metadata": {},
   "source": [
    "<h2>Notes</h2>\n",
    "<p>\n",
    "    <ul>\n",
    "        <li><strong>Outflow</strong>: Not sure if meteorology (airflow from storm) or hydrology (water flow out of system) definition applies! Think hydrology definition is more likely.</li>\n",
    "        <li><strong>Water year</strong> perhaps should be converted to a date type.</li>\n",
    "        <li>Table contains columns with values representing a year's measurements (<strong>Rain (mm) Oct-Sep</strong> and <strong>Outflow (mm) Oct-Sep</strong>), alongside four columns each of which represents a period of three months (<strong>Rain (mm) Dec-Feb</strong> etc).</li>\n",
    "    </ul>\n",
    "</p>"
   ]
  },
  {
   "cell_type": "code",
   "execution_count": null,
   "metadata": {
    "collapsed": true
   },
   "outputs": [],
   "source": []
  }
 ],
 "metadata": {
  "kernelspec": {
   "display_name": "Python 3",
   "language": "python",
   "name": "python3"
  },
  "language_info": {
   "codemirror_mode": {
    "name": "ipython",
    "version": 3
   },
   "file_extension": ".py",
   "mimetype": "text/x-python",
   "name": "python",
   "nbconvert_exporter": "python",
   "pygments_lexer": "ipython3",
   "version": "3.5.2"
  }
 },
 "nbformat": 4,
 "nbformat_minor": 0
}
